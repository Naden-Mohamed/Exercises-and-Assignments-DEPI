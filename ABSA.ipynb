{
 "cells": [
  {
   "cell_type": "code",
   "execution_count": null,
   "metadata": {
    "id": "1zi04a6xsR0E"
   },
   "outputs": [],
   "source": [
    "import pandas as pd\n",
    "import numpy as np\n",
    "import matplotlib.pyplot as plt\n",
    "import seaborn as sns"
   ]
  },
  {
   "cell_type": "code",
   "execution_count": null,
   "metadata": {
    "id": "OCN6Ko_qsZNh"
   },
   "outputs": [],
   "source": [
    "df = pd.read_csv(\"labeled_tourism_reviews (1).csv\")"
   ]
  },
  {
   "cell_type": "code",
   "execution_count": null,
   "metadata": {
    "colab": {
     "base_uri": "https://localhost:8080/",
     "height": 793
    },
    "id": "ghpZroPRseQS",
    "outputId": "7dcd5d99-1c07-4c78-8eda-ee2111f8d75a"
   },
   "outputs": [],
   "source": [
    "df.head()"
   ]
  },
  {
   "cell_type": "code",
   "execution_count": null,
   "metadata": {
    "id": "1zGy39Iysf1I"
   },
   "outputs": [],
   "source": [
    "df = df.dropna(subset=['processed_review'])"
   ]
  },
  {
   "cell_type": "code",
   "execution_count": null,
   "metadata": {
    "id": "n933sr30uM7P"
   },
   "outputs": [],
   "source": [
    "df = df[df['aspects'].map(len) > 0]"
   ]
  },
  {
   "cell_type": "code",
   "execution_count": null,
   "metadata": {
    "colab": {
     "base_uri": "https://localhost:8080/",
     "height": 237,
     "referenced_widgets": [
      "5ea949ca48904e34816be24334bd2c91",
      "016bbd3db0c64ad583be6d3032abab5d",
      "6c7eb4a3ca6940a0ad1fd86d99f46dcb",
      "681901dcfb3e41bd91380888b4703c5d",
      "61e10d58bf124e0196f2ed50975063d3",
      "1c61ecfaebf84e0d9a9bce1660b9c27d",
      "085eaa64fb504deb90b3712cd751d351",
      "ecb5321b8f7c4c06824405be170312b6",
      "c4422ab9f3c1456b808849352d75484c",
      "1bfa6ab9558b443ca51722819483aed3",
      "abe17ed7fb0640d39234180d7cf4b612",
      "c1278da3e0aa451dbd31a7f7f4d92704",
      "0d1e0828d07b4b9e92f0a034e8c32f0d",
      "db3f6c2a915b4a99bf459a109f585d85",
      "c269de8f76194824af8f3c7ba7e03ab4",
      "11dd05684a9b4ebf84791771a750ea41",
      "7d3879e4d2f94ede8caf639edfa3b2b8",
      "31f863cfe1c84c9d8d16da87534aa3df",
      "07ee42043cee486183f7d9a3154d7e7d",
      "04eb731619334a39807fe0fba93dd201",
      "812cd3810b804ced862df2d2321b9890",
      "167635a06c724017a9717c0741b1558c",
      "7028fb8cd96543d7bc112c33462eb339",
      "26e6632315604015a1a75ddb072dda98",
      "61d590bd22314a44a36a6bd3df78be75",
      "d034951163ed46999f21a481917c0d9a",
      "8eb916a103b343028560e5cbb867f1ae",
      "9943a668def74c6f83044521c671d871",
      "a7590cf405914631b239cc441e7b133d",
      "bb16b2418dd7481ea9c09b3d13847a14",
      "2ab37e6af1b942b9948a0ab1a6762a9d",
      "1fff2da5772d47a7820d0864d0c3ec60",
      "510b54abc8464fb2b143710c7142f5b5"
     ]
    },
    "id": "5_dALXRTx2mb",
    "outputId": "d663d23c-381a-4fe3-da02-b1d95aaa07de"
   },
   "outputs": [],
   "source": [
    "from keybert import KeyBERT\n",
    "kw_model = KeyBERT()\n",
    "\n",
    "df['aspects'] = df['processed_review'].apply(lambda x: [kw[0] for kw in kw_model.extract_keywords(x, keyphrase_ngram_range=(1, 2), stop_words='english', top_n=3)])\n"
   ]
  },
  {
   "cell_type": "code",
   "execution_count": null,
   "metadata": {
    "id": "4KE820OWynF4"
   },
   "outputs": [],
   "source": [
    "import re\n",
    "\n",
    "def clean_aspect(aspect):\n",
    "    aspect = aspect.lower().strip()\n",
    "    aspect = re.sub(r'\\W+', ' ', aspect)  # remove non-alphanumeric\n",
    "    return aspect\n",
    "\n",
    "df['aspects'] = df['aspects'].apply(lambda aspects: [clean_aspect(a) for a in aspects])\n"
   ]
  },
  {
   "cell_type": "code",
   "execution_count": null,
   "metadata": {
    "colab": {
     "base_uri": "https://localhost:8080/",
     "height": 711
    },
    "id": "IoD666_E0Ev6",
    "outputId": "040de0b6-aa32-46d0-ea00-01b871e25bba"
   },
   "outputs": [],
   "source": [
    "df['aspects'].head(20)"
   ]
  },
  {
   "cell_type": "code",
   "execution_count": null,
   "metadata": {
    "id": "zPiRnDod0dK5"
   },
   "outputs": [],
   "source": [
    "from collections import Counter\n",
    "\n",
    "all_aspects = [aspect for aspects in df['aspects'][df['sentiment_ensemble'] == 'positive'] for aspect in aspects]\n",
    "most_common_positive_aspects = [a for a in Counter(all_aspects).most_common(100)]  # Top 50\n"
   ]
  },
  {
   "cell_type": "code",
   "execution_count": null,
   "metadata": {
    "colab": {
     "base_uri": "https://localhost:8080/"
    },
    "id": "3n9IMknH0zE8",
    "outputId": "35f949f9-bdea-4056-8215-e47b1ba99f2c"
   },
   "outputs": [],
   "source": [
    "most_common_positive_aspects"
   ]
  },
  {
   "cell_type": "code",
   "execution_count": null,
   "metadata": {
    "id": "njJ5IK8y00la"
   },
   "outputs": [],
   "source": [
    "all_aspects = [aspect for aspects in df['aspects'][df['sentiment_ensemble'] == 'negative'] for aspect in aspects]\n",
    "most_common_negative_aspects = [a for a in Counter(all_aspects).most_common(100)]  # Top 50"
   ]
  },
  {
   "cell_type": "code",
   "execution_count": null,
   "metadata": {
    "colab": {
     "base_uri": "https://localhost:8080/"
    },
    "id": "cKaxxzsk1SS1",
    "outputId": "e39ed903-730b-4759-c508-3903b88b55be"
   },
   "outputs": [],
   "source": [
    "most_common_negative_aspects"
   ]
  },
  {
   "cell_type": "code",
   "execution_count": null,
   "metadata": {
    "colab": {
     "base_uri": "https://localhost:8080/"
    },
    "id": "Lu5bila31TrC",
    "outputId": "79a69064-aec0-477f-c488-680b7732cfd5"
   },
   "outputs": [],
   "source": [
    "top_aspects = [a[0] for a in most_common_negative_aspects]\n",
    "\n",
    "for aspect in top_aspects:\n",
    "    print(f\"\\n🔹 Reviews mentioning aspect: **{aspect}**\\n{'-'*50}\")\n",
    "\n",
    "    matching_reviews = df[\n",
    "        (df['sentiment_ensemble'] == 'negative') &\n",
    "        (df['aspects'].apply(lambda x: aspect in x))\n",
    "    ]['processed_review']\n",
    "\n",
    "    for i, review in enumerate(matching_reviews.head(5), 1):  # limit to top 5 reviews per aspect\n",
    "        print(f\"{i}. {review}\")\n"
   ]
  },
  {
   "cell_type": "code",
   "execution_count": null,
   "metadata": {
    "id": "1ExiTf-k1o9Z"
   },
   "outputs": [],
   "source": [
    "from transformers import AutoTokenizer, AutoModelForSequenceClassification\n",
    "import torch.nn.functional as F\n",
    "from transformers import pipeline\n",
    "\n",
    "absa_tokenizer = AutoTokenizer.from_pretrained(\"yangheng/deberta-v3-base-absa-v1.1\")\n",
    "absa_model = AutoModelForSequenceClassification \\\n",
    "  .from_pretrained(\"yangheng/deberta-v3-base-absa-v1.1\")"
   ]
  },
  {
   "cell_type": "code",
   "execution_count": null,
   "metadata": {
    "id": "DFaxB0Nq2119"
   },
   "outputs": [],
   "source": [
    "sentiment_model_path = \"cardiffnlp/twitter-xlm-roberta-base-sentiment\"\n",
    "sentiment_model = pipeline(\"sentiment-analysis\", model=sentiment_model_path,\n",
    "                          tokenizer=sentiment_model_path)"
   ]
  },
  {
   "cell_type": "code",
   "execution_count": null,
   "metadata": {
    "colab": {
     "base_uri": "https://localhost:8080/"
    },
    "id": "EmWqb3kf3AqR",
    "outputId": "c89f3519-324a-434f-858b-8063055f9f78"
   },
   "outputs": [],
   "source": [
    "\n",
    "sentence = \"Is one of the worst countries (if not the worst) , for sexual harassment of women . And one of the tops ones for denying that the problem exist.\"\n",
    "print(f\"Sentence: {sentence}\")\n",
    "print()\n",
    "\n",
    "aspect = \"people\"\n",
    "inputs = absa_tokenizer(f\"[CLS] {sentence} [SEP] {aspect} [SEP]\", return_tensors=\"pt\")\n",
    "outputs = absa_model(**inputs)\n",
    "probs = F.softmax(outputs.logits, dim=1)\n",
    "probs = probs.detach().numpy()[0]\n",
    "print(f\"Sentiment of aspect '{aspect}' is:\")\n",
    "for prob, label in zip(probs, [\"negative\", \"neutral\", \"positive\"]):\n",
    "  print(f\"Label {label}: {prob}\")\n",
    "print()"
   ]
  },
  {
   "cell_type": "code",
   "execution_count": null,
   "metadata": {
    "colab": {
     "base_uri": "https://localhost:8080/"
    },
    "id": "sTo7-9NF3K7q",
    "outputId": "c154ce71-82ac-44ac-dcbf-5e31aadfb1db"
   },
   "outputs": [],
   "source": [
    "# Overall sentiment of the sentence\n",
    "sentiment = sentiment_model([sentence])[0]\n",
    "print(f\"Overall sentiment: {sentiment['label']} with score {sentiment['score']}\")"
   ]
  },
  {
   "cell_type": "code",
   "execution_count": null,
   "metadata": {
    "colab": {
     "base_uri": "https://localhost:8080/"
    },
    "id": "pkuOl-WM3xMq",
    "outputId": "4e803b9a-53b2-4cca-b9f9-0b2ca7912d33"
   },
   "outputs": [],
   "source": [
    "sentence = \"Egypt has many beautiful sites especially the places on the sea for those who love nature.museums for those who love history.In a nutshell, All types of tourism can exist.beautiful weather in the winter where you can wear summer clothes in the middle of the day.Locals are extremely friendly\"\n",
    "\n",
    "print(f\"Sentence: {sentence}\")\n",
    "print()\n",
    "\n",
    "aspect = \"Egypt\"\n",
    "inputs = absa_tokenizer(f\"[CLS] {sentence} [SEP] {aspect} [SEP]\", return_tensors=\"pt\")\n",
    "outputs = absa_model(**inputs)\n",
    "probs = F.softmax(outputs.logits, dim=1)\n",
    "probs = probs.detach().numpy()[0]\n",
    "print(f\"Sentiment of aspect '{aspect}' is:\")\n",
    "for prob, label in zip(probs, [\"negative\", \"neutral\", \"positive\"]):\n",
    "  print(f\"Label {label}: {prob}\")\n",
    "print()"
   ]
  },
  {
   "cell_type": "code",
   "execution_count": null,
   "metadata": {
    "colab": {
     "base_uri": "https://localhost:8080/"
    },
    "id": "6SGKPy5G45-R",
    "outputId": "bbb5d126-e6ac-4c90-8dfb-0581f7e88321"
   },
   "outputs": [],
   "source": [
    "sentiment = sentiment_model([sentence])[0]\n",
    "print(f\"Overall sentiment: {sentiment['label']} with score {sentiment['score']}\")"
   ]
  },
  {
   "cell_type": "code",
   "execution_count": null,
   "metadata": {
    "id": "w7a9nMpy5CW0"
   },
   "outputs": [],
   "source": []
  }
 ],
 "metadata": {
  "accelerator": "GPU",
  "colab": {
   "gpuType": "T4",
   "provenance": []
  },
  "kernelspec": {
   "display_name": "Python 3",
   "name": "python3"
  },
  "language_info": {
   "name": "python"
  }
 },
 "nbformat": 4,
 "nbformat_minor": 0
}
